{
 "cells": [
  {
   "cell_type": "markdown",
   "metadata": {},
   "source": [
    "## Importing Libraries"
   ]
  },
  {
   "cell_type": "code",
   "execution_count": 1,
   "metadata": {},
   "outputs": [],
   "source": [
    "import json\n",
    "import matplotlib.pyplot as plt\n",
    "\n",
    "import asyncio\n",
    "from time import perf_counter\n",
    "import aiohttp\n",
    "import requests\n",
    "from time import sleep\n",
    "from tqdm import tqdm\n",
    "from random import randint, shuffle"
   ]
  },
  {
   "cell_type": "markdown",
   "metadata": {},
   "source": [
    "### <font size=\"5\">Initializing the default configuration</font> "
   ]
  },
  {
   "cell_type": "code",
   "execution_count": 2,
   "metadata": {},
   "outputs": [
    {
     "name": "stdout",
     "output_type": "stream",
     "text": [
      "Internal Server Error\n"
     ]
    }
   ],
   "source": [
    "LOAD_BALANCER_URL = \"http://localhost:8000\"\n",
    "payload = {\n",
    "    \"N\":6,\n",
    "    \"schema\":{\"columns\":[\"Stud_id\",\"Stud_name\",\"Stud_marks\"],\n",
    "    \"dtypes\":[\"Number\",\"String\",\"String\"]},\n",
    "    \"shards\":[  {\"Stud_id_low\":0, \"Shard_id\": \"sh1\", \"Shard_size\":4096},\n",
    "                {\"Stud_id_low\":4096, \"Shard_id\": \"sh2\", \"Shard_size\":4096},\n",
    "                {\"Stud_id_low\":8192, \"Shard_id\": \"sh3\", \"Shard_size\":4096},\n",
    "                {\"Stud_id_low\":12288, \"Shard_id\": \"sh4\", \"Shard_size\":4096},\n",
    "                {\"Stud_id_low\":16384, \"Shard_id\": \"sh5\", \"Shard_size\":4096},\n",
    "                {\"Stud_id_low\":20480, \"Shard_id\": \"sh6\", \"Shard_size\":4096}],\n",
    "\n",
    "    \"servers\":{ \"Server0\":[\"sh1\",\"sh2\", \"sh3\", \"sh4\", \"sh5\"],\n",
    "                \"Server1\":[\"sh2\", \"sh3\", \"sh4\", \"sh5\",\"sh6\"],\n",
    "                \"Server2\":[\"sh3\", \"sh4\", \"sh5\",\"sh6\",\"sh1\"],\n",
    "                \"Server3\":[\"sh4\", \"sh5\",\"sh6\",\"sh1\",\"sh2\"],\n",
    "                \"Server4\":[\"sh5\", \"sh6\",\"sh1\",\"sh2\",\"sh3\"],\n",
    "                \"Server5\":[\"sh6\",\"sh1\",\"sh2\",\"sh3\", \"sh4\"],\n",
    "                \"Server6\":[\"sh1\",\"sh2\",\"sh3\", \"sh4\", \"sh5\"],\n",
    "                \"Server7\":[\"sh2\",\"sh3\", \"sh4\", \"sh5\",\"sh6\"],\n",
    "                \"Server8\":[\"sh3\", \"sh4\",\"sh6\",\"sh1\"],\n",
    "                \"Server9\":[\"sh5\",\"sh6\",\"sh1\",\"sh2\"],\n",
    "               \n",
    "                \n",
    "                \n",
    "                }\n",
    "}\n",
    "\n",
    "response = requests.post(LOAD_BALANCER_URL+\"/init\", json=payload)\n",
    "print(response.text)\n",
    "\n"
   ]
  },
  {
   "cell_type": "code",
   "execution_count": 3,
   "metadata": {},
   "outputs": [
    {
     "name": "stdout",
     "output_type": "stream",
     "text": [
      "<+> Sent all 10000 write requests \n"
     ]
    },
    {
     "ename": "TimeoutError",
     "evalue": "",
     "output_type": "error",
     "traceback": [
      "\u001b[1;31m---------------------------------------------------------------------------\u001b[0m",
      "\u001b[1;31mTimeoutError\u001b[0m                              Traceback (most recent call last)",
      "\u001b[1;32md:\\Sem 8\\DS\\asgn3\\DS-ASSGN3\\analysis_A3.ipynb Cell 5\u001b[0m line \u001b[0;36m4\n\u001b[0;32m     <a href='vscode-notebook-cell:/d%3A/Sem%208/DS/asgn3/DS-ASSGN3/analysis_A3.ipynb#W4sZmlsZQ%3D%3D?line=41'>42</a>\u001b[0m             i\u001b[39m=\u001b[39m (\u001b[39m1\u001b[39m\u001b[39m+\u001b[39mi\u001b[39m/\u001b[39m\u001b[39m/\u001b[39mblock_size)\u001b[39m*\u001b[39mblock_size\n\u001b[0;32m     <a href='vscode-notebook-cell:/d%3A/Sem%208/DS/asgn3/DS-ASSGN3/analysis_A3.ipynb#W4sZmlsZQ%3D%3D?line=43'>44</a>\u001b[0m     shuffle(payload_list)\n\u001b[1;32m---> <a href='vscode-notebook-cell:/d%3A/Sem%208/DS/asgn3/DS-ASSGN3/analysis_A3.ipynb#W4sZmlsZQ%3D%3D?line=44'>45</a>\u001b[0m     htmls \u001b[39m=\u001b[39m \u001b[39mawait\u001b[39;00m write_all(session, payload_list)\n\u001b[0;32m     <a href='vscode-notebook-cell:/d%3A/Sem%208/DS/asgn3/DS-ASSGN3/analysis_A3.ipynb#W4sZmlsZQ%3D%3D?line=45'>46</a>\u001b[0m end \u001b[39m=\u001b[39m perf_counter()\n\u001b[0;32m     <a href='vscode-notebook-cell:/d%3A/Sem%208/DS/asgn3/DS-ASSGN3/analysis_A3.ipynb#W4sZmlsZQ%3D%3D?line=46'>47</a>\u001b[0m \u001b[39mprint\u001b[39m(\u001b[39mf\u001b[39m\u001b[39m\"\u001b[39m\u001b[39mTime taken to complete \u001b[39m\u001b[39m{\u001b[39;00mREQ_COUNT\u001b[39m}\u001b[39;00m\u001b[39m requests: \u001b[39m\u001b[39m{\u001b[39;00mend\u001b[39m-\u001b[39mstart\u001b[39m:\u001b[39;00m\u001b[39m.2f\u001b[39m\u001b[39m}\u001b[39;00m\u001b[39m seconds\u001b[39m\u001b[39m\"\u001b[39m)\n",
      "\u001b[1;32md:\\Sem 8\\DS\\asgn3\\DS-ASSGN3\\analysis_A3.ipynb Cell 5\u001b[0m line \u001b[0;36m1\n\u001b[0;32m     <a href='vscode-notebook-cell:/d%3A/Sem%208/DS/asgn3/DS-ASSGN3/analysis_A3.ipynb#W4sZmlsZQ%3D%3D?line=15'>16</a>\u001b[0m     tasks\u001b[39m.\u001b[39mappend(task)\n\u001b[0;32m     <a href='vscode-notebook-cell:/d%3A/Sem%208/DS/asgn3/DS-ASSGN3/analysis_A3.ipynb#W4sZmlsZQ%3D%3D?line=17'>18</a>\u001b[0m \u001b[39mprint\u001b[39m(\u001b[39mf\u001b[39m\u001b[39m\"\u001b[39m\u001b[39m<+> Sent all \u001b[39m\u001b[39m{\u001b[39;00m\u001b[39mlen\u001b[39m(payload_list)\u001b[39m}\u001b[39;00m\u001b[39m write requests \u001b[39m\u001b[39m\"\u001b[39m)\n\u001b[1;32m---> <a href='vscode-notebook-cell:/d%3A/Sem%208/DS/asgn3/DS-ASSGN3/analysis_A3.ipynb#W4sZmlsZQ%3D%3D?line=18'>19</a>\u001b[0m res \u001b[39m=\u001b[39m \u001b[39mawait\u001b[39;00m asyncio\u001b[39m.\u001b[39mgather(\u001b[39m*\u001b[39mtasks)\n\u001b[0;32m     <a href='vscode-notebook-cell:/d%3A/Sem%208/DS/asgn3/DS-ASSGN3/analysis_A3.ipynb#W4sZmlsZQ%3D%3D?line=19'>20</a>\u001b[0m \u001b[39mreturn\u001b[39;00m res\n",
      "\u001b[1;32md:\\Sem 8\\DS\\asgn3\\DS-ASSGN3\\analysis_A3.ipynb Cell 5\u001b[0m line \u001b[0;36m5\n\u001b[0;32m      <a href='vscode-notebook-cell:/d%3A/Sem%208/DS/asgn3/DS-ASSGN3/analysis_A3.ipynb#W4sZmlsZQ%3D%3D?line=3'>4</a>\u001b[0m \u001b[39masync\u001b[39;00m \u001b[39mdef\u001b[39;00m \u001b[39mwrite\u001b[39m(session, payload):\n\u001b[1;32m----> <a href='vscode-notebook-cell:/d%3A/Sem%208/DS/asgn3/DS-ASSGN3/analysis_A3.ipynb#W4sZmlsZQ%3D%3D?line=4'>5</a>\u001b[0m     \u001b[39masync\u001b[39;00m \u001b[39mwith\u001b[39;00m session\u001b[39m.\u001b[39mpost(LOAD_BALANCER_URL\u001b[39m+\u001b[39m\u001b[39m\"\u001b[39m\u001b[39m/write\u001b[39m\u001b[39m\"\u001b[39m, json\u001b[39m=\u001b[39mpayload) \u001b[39mas\u001b[39;00m r:\n\u001b[0;32m      <a href='vscode-notebook-cell:/d%3A/Sem%208/DS/asgn3/DS-ASSGN3/analysis_A3.ipynb#W4sZmlsZQ%3D%3D?line=5'>6</a>\u001b[0m         \u001b[39mif\u001b[39;00m r\u001b[39m.\u001b[39mstatus \u001b[39m!=\u001b[39m \u001b[39m200\u001b[39m:\n\u001b[0;32m      <a href='vscode-notebook-cell:/d%3A/Sem%208/DS/asgn3/DS-ASSGN3/analysis_A3.ipynb#W4sZmlsZQ%3D%3D?line=6'>7</a>\u001b[0m             r\u001b[39m.\u001b[39mraise_for_status()\n",
      "File \u001b[1;32m~\\AppData\\Roaming\\Python\\Python311\\site-packages\\aiohttp\\client.py:1141\u001b[0m, in \u001b[0;36m_BaseRequestContextManager.__aenter__\u001b[1;34m(self)\u001b[0m\n\u001b[0;32m   1140\u001b[0m \u001b[39masync\u001b[39;00m \u001b[39mdef\u001b[39;00m \u001b[39m__aenter__\u001b[39m(\u001b[39mself\u001b[39m) \u001b[39m-\u001b[39m\u001b[39m>\u001b[39m _RetType:\n\u001b[1;32m-> 1141\u001b[0m     \u001b[39mself\u001b[39m\u001b[39m.\u001b[39m_resp \u001b[39m=\u001b[39m \u001b[39mawait\u001b[39;00m \u001b[39mself\u001b[39m\u001b[39m.\u001b[39m_coro\n\u001b[0;32m   1142\u001b[0m     \u001b[39mreturn\u001b[39;00m \u001b[39mself\u001b[39m\u001b[39m.\u001b[39m_resp\n",
      "File \u001b[1;32m~\\AppData\\Roaming\\Python\\Python311\\site-packages\\aiohttp\\client.py:560\u001b[0m, in \u001b[0;36mClientSession._request\u001b[1;34m(self, method, str_or_url, params, data, json, cookies, headers, skip_auto_headers, auth, allow_redirects, max_redirects, compress, chunked, expect100, raise_for_status, read_until_eof, proxy, proxy_auth, timeout, verify_ssl, fingerprint, ssl_context, ssl, proxy_headers, trace_request_ctx, read_bufsize)\u001b[0m\n\u001b[0;32m    558\u001b[0m resp \u001b[39m=\u001b[39m \u001b[39mawait\u001b[39;00m req\u001b[39m.\u001b[39msend(conn)\n\u001b[0;32m    559\u001b[0m \u001b[39mtry\u001b[39;00m:\n\u001b[1;32m--> 560\u001b[0m     \u001b[39mawait\u001b[39;00m resp\u001b[39m.\u001b[39mstart(conn)\n\u001b[0;32m    561\u001b[0m \u001b[39mexcept\u001b[39;00m \u001b[39mBaseException\u001b[39;00m:\n\u001b[0;32m    562\u001b[0m     resp\u001b[39m.\u001b[39mclose()\n",
      "File \u001b[1;32m~\\AppData\\Roaming\\Python\\Python311\\site-packages\\aiohttp\\client_reqrep.py:894\u001b[0m, in \u001b[0;36mClientResponse.start\u001b[1;34m(self, connection)\u001b[0m\n\u001b[0;32m    891\u001b[0m \u001b[39mself\u001b[39m\u001b[39m.\u001b[39m_protocol \u001b[39m=\u001b[39m connection\u001b[39m.\u001b[39mprotocol\n\u001b[0;32m    892\u001b[0m \u001b[39mself\u001b[39m\u001b[39m.\u001b[39m_connection \u001b[39m=\u001b[39m connection\n\u001b[1;32m--> 894\u001b[0m \u001b[39mwith\u001b[39;49;00m \u001b[39mself\u001b[39;49m\u001b[39m.\u001b[39;49m_timer:\n\u001b[0;32m    895\u001b[0m     \u001b[39mwhile\u001b[39;49;00m \u001b[39mTrue\u001b[39;49;00m:\n\u001b[0;32m    896\u001b[0m         \u001b[39m# read response\u001b[39;49;00m\n\u001b[0;32m    897\u001b[0m         \u001b[39mtry\u001b[39;49;00m:\n",
      "File \u001b[1;32m~\\AppData\\Roaming\\Python\\Python311\\site-packages\\aiohttp\\helpers.py:721\u001b[0m, in \u001b[0;36mTimerContext.__exit__\u001b[1;34m(self, exc_type, exc_val, exc_tb)\u001b[0m\n\u001b[0;32m    718\u001b[0m     \u001b[39mself\u001b[39m\u001b[39m.\u001b[39m_tasks\u001b[39m.\u001b[39mpop()\n\u001b[0;32m    720\u001b[0m \u001b[39mif\u001b[39;00m exc_type \u001b[39mis\u001b[39;00m asyncio\u001b[39m.\u001b[39mCancelledError \u001b[39mand\u001b[39;00m \u001b[39mself\u001b[39m\u001b[39m.\u001b[39m_cancelled:\n\u001b[1;32m--> 721\u001b[0m     \u001b[39mraise\u001b[39;00m asyncio\u001b[39m.\u001b[39mTimeoutError \u001b[39mfrom\u001b[39;00m \u001b[39mNone\u001b[39;00m\n\u001b[0;32m    722\u001b[0m \u001b[39mreturn\u001b[39;00m \u001b[39mNone\u001b[39;00m\n",
      "\u001b[1;31mTimeoutError\u001b[0m: "
     ]
    }
   ],
   "source": [
    "# Making 10,000 asynchronus write requests\n",
    "REQ_COUNT = 10_000\n",
    "MIN_STUDENT_ID, MAX_STUDENT_ID = 0, 24575\n",
    "async def write(session, payload):\n",
    "    async with session.post(LOAD_BALANCER_URL+\"/write\", json=payload) as r:\n",
    "        if r.status != 200:\n",
    "            r.raise_for_status()\n",
    "            print(\"Error in write request\")\n",
    "        res=await r.text()\n",
    "        return res\n",
    "    \n",
    "async def write_all(session, payload_list):\n",
    "    tasks = []\n",
    "    for payload in payload_list:\n",
    "        task = asyncio.create_task(write(session, payload))\n",
    "        tasks.append(task)\n",
    "        \n",
    "    print(f\"<+> Sent all {len(payload_list)} write requests \")\n",
    "    res = await asyncio.gather(*tasks)\n",
    "    return res\n",
    "\n",
    "shard_count = 6\n",
    "block_size = MAX_STUDENT_ID//shard_count   \n",
    "start = perf_counter()\n",
    "timeout = aiohttp.ClientTimeout(total=60*30)\n",
    "async with aiohttp.ClientSession(timeout=timeout) as session:\n",
    "    payload_list = []\n",
    "    i = 0\n",
    "    while i <= MAX_STUDENT_ID:\n",
    "        student_id = i\n",
    "        student_name = \"student_\"+str(i)\n",
    "        student_marks = i%100\n",
    "        payload = { \"data\": [ {\"Stud_id\": student_id,\"Stud_name\": student_name, \"Stud_marks\": student_marks} ]\n",
    "                    }\n",
    "        payload_list.append(payload)\n",
    "        \n",
    "        if len(payload_list) == REQ_COUNT:\n",
    "            break\n",
    "        \n",
    "        i+=1\n",
    "        if i%block_size == REQ_COUNT//shard_count:\n",
    "            i= (1+i//block_size)*block_size\n",
    "        \n",
    "    shuffle(payload_list)\n",
    "    htmls = await write_all(session, payload_list)\n",
    "end = perf_counter()\n",
    "print(f\"Time taken to complete {REQ_COUNT} requests: {end-start:.2f} seconds\")"
   ]
  },
  {
   "cell_type": "code",
   "execution_count": null,
   "metadata": {},
   "outputs": [
    {
     "name": "stdout",
     "output_type": "stream",
     "text": [
      "<+> Sent all 10000 read requests \n",
      "Time taken to complete 10000 requests: 75.85 seconds\n"
     ]
    }
   ],
   "source": [
    "# Making 10,000 asynchronus read requests\n",
    "\n",
    "REQ_COUNT = 10000\n",
    "async def read(session, payload):\n",
    "    async with session.post(LOAD_BALANCER_URL+\"/read\", json=payload) as r:\n",
    "        if r.status != 200:\n",
    "            r.raise_for_status()\n",
    "            print(\"Error in read request\")\n",
    "        res=await r.text()\n",
    "        return res\n",
    "    \n",
    "async def read_all(session, payload_list):\n",
    "    tasks = []\n",
    "    for payload in payload_list:\n",
    "        task = asyncio.create_task(read(session, payload))\n",
    "        tasks.append(task)\n",
    "        \n",
    "    print(f\"<+> Sent all {len(payload_list)} read requests \")\n",
    "    res = await asyncio.gather(*tasks)\n",
    "    return res\n",
    "\n",
    "shard_count = 4\n",
    "block_size = MAX_STUDENT_ID//shard_count   \n",
    "start = perf_counter()\n",
    "async with aiohttp.ClientSession() as session:\n",
    "    payload_list = []\n",
    "    \n",
    "    for i in range(REQ_COUNT):\n",
    "        low = randint(MIN_STUDENT_ID, MAX_STUDENT_ID)\n",
    "        high = randint(low, min(MAX_STUDENT_ID, low + randint(1, 100)))\n",
    "        \n",
    "        payload = { \"Stud_id\": {\"low\":low, \"high\":high}   }\n",
    "        payload_list.append(payload)\n",
    "        \n",
    "        if len(payload_list) == REQ_COUNT:\n",
    "            break\n",
    "        \n",
    "        \n",
    "    htmls = await read_all(session, payload_list)\n",
    "end = perf_counter()\n",
    "print(f\"Time taken to complete {REQ_COUNT} requests: {end-start:.2f} seconds\")"
   ]
  },
  {
   "cell_type": "code",
   "execution_count": null,
   "metadata": {},
   "outputs": [],
   "source": []
  }
 ],
 "metadata": {
  "kernelspec": {
   "display_name": "Python 3",
   "language": "python",
   "name": "python3"
  },
  "language_info": {
   "codemirror_mode": {
    "name": "ipython",
    "version": 3
   },
   "file_extension": ".py",
   "mimetype": "text/x-python",
   "name": "python",
   "nbconvert_exporter": "python",
   "pygments_lexer": "ipython3",
   "version": "3.11.3"
  }
 },
 "nbformat": 4,
 "nbformat_minor": 2
}
